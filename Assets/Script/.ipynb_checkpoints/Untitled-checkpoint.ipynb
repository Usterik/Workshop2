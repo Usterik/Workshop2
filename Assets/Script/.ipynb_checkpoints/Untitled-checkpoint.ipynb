{
 "cells": [
  {
   "cell_type": "code",
   "execution_count": 3,
   "id": "34786ee2",
   "metadata": {},
   "outputs": [
    {
     "name": "stderr",
     "output_type": "stream",
     "text": [
      "C:\\Users\\User\\AppData\\Local\\Temp\\ipykernel_13932\\693699474.py:13: DeprecationWarning: [Deprecated][in version 6.0.0]: Method signature's arguments 'range_name' and 'values' will change their order. We recommend using named arguments for minimal impact. In addition, the argument 'values' will be mandatory of type: 'List[List]'. (ex) Worksheet.update(values = [[]], range_name=) \n",
      "  sh.sheet1.update(('A' + str(i)), str(i))\n",
      "C:\\Users\\User\\AppData\\Local\\Temp\\ipykernel_13932\\693699474.py:14: DeprecationWarning: [Deprecated][in version 6.0.0]: Method signature's arguments 'range_name' and 'values' will change their order. We recommend using named arguments for minimal impact. In addition, the argument 'values' will be mandatory of type: 'List[List]'. (ex) Worksheet.update(values = [[]], range_name=) \n",
      "  sh.sheet1.update(('B' + str(i)), str(caps[i-1]))\n"
     ]
    },
    {
     "name": "stdout",
     "output_type": "stream",
     "text": [
      "1 1706\n",
      "2 387\n",
      "3 1058\n",
      "4 1254\n",
      "5 1506\n",
      "6 1690\n",
      "7 1002\n",
      "8 1680\n",
      "9 827\n",
      "10 384\n",
      "11 954\n"
     ]
    }
   ],
   "source": [
    "import gspread\n",
    "import numpy as np\n",
    "gc = gspread.service_account(filename='workshop2-404304-346a1788aeca.json')\n",
    "sh = gc.open(\"Workshop2\")\n",
    "caps = np.random.randint(100, 2000, 11)\n",
    "mon = list(range(1,11))\n",
    "i = 0\n",
    "while i <= len(mon):\n",
    "    i += 1\n",
    "    if i == 0:\n",
    "        continue\n",
    "    else:\n",
    "        sh.sheet1.update(('A' + str(i)), str(i))\n",
    "        sh.sheet1.update(('B' + str(i)), str(caps[i-1]))\n",
    "        print(str(i), str(caps[i-1]))"
   ]
  },
  {
   "cell_type": "code",
   "execution_count": null,
   "id": "cac484fd",
   "metadata": {},
   "outputs": [],
   "source": []
  }
 ],
 "metadata": {
  "kernelspec": {
   "display_name": "Python 3 (ipykernel)",
   "language": "python",
   "name": "python3"
  },
  "language_info": {
   "codemirror_mode": {
    "name": "ipython",
    "version": 3
   },
   "file_extension": ".py",
   "mimetype": "text/x-python",
   "name": "python",
   "nbconvert_exporter": "python",
   "pygments_lexer": "ipython3",
   "version": "3.11.5"
  }
 },
 "nbformat": 4,
 "nbformat_minor": 5
}
